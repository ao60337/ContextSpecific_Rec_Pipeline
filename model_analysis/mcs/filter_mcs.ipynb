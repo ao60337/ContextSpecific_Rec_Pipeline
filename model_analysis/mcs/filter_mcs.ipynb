{
 "cells": [
  {
   "cell_type": "code",
   "execution_count": 1,
   "metadata": {
    "ExecuteTime": {
     "end_time": "2024-04-02T12:08:38.087378Z",
     "start_time": "2024-04-02T12:08:37.682409Z"
    }
   },
   "outputs": [],
   "source": [
    "import pandas as pd"
   ]
  },
  {
   "cell_type": "code",
   "execution_count": 2,
   "metadata": {
    "ExecuteTime": {
     "end_time": "2024-04-02T12:08:40.444625Z",
     "start_time": "2024-04-02T12:08:40.398595Z"
    }
   },
   "outputs": [
    {
     "data": {
      "text/plain": "870"
     },
     "execution_count": 2,
     "metadata": {},
     "output_type": "execute_result"
    }
   ],
   "source": [
    "lung = pd.read_csv('results/HumanGEM_Lung_COVID19_local2_1_3_2_fastcore_t0_msc_filtered.csv', index_col=0).drop('fba_simulation', axis=1).to_dict('records')\n",
    "len(lung)"
   ]
  },
  {
   "cell_type": "code",
   "execution_count": 3,
   "metadata": {
    "ExecuteTime": {
     "end_time": "2024-04-02T12:08:41.213172Z",
     "start_time": "2024-04-02T12:08:41.194136Z"
    }
   },
   "outputs": [
    {
     "data": {
      "text/plain": "731"
     },
     "execution_count": 3,
     "metadata": {},
     "output_type": "execute_result"
    }
   ],
   "source": [
    "liver = pd.read_csv('results/HumanGEM_Liver_COVID19_local2_1_3_2_fastcore_t0_msc_filtered.csv', index_col=0).drop('fba_simulation', axis=1).to_dict('records')\n",
    "len(liver)"
   ]
  },
  {
   "cell_type": "code",
   "execution_count": 4,
   "metadata": {
    "ExecuteTime": {
     "end_time": "2024-04-02T12:08:42.139981Z",
     "start_time": "2024-04-02T12:08:42.108970Z"
    }
   },
   "outputs": [
    {
     "data": {
      "text/plain": "1991"
     },
     "execution_count": 4,
     "metadata": {},
     "output_type": "execute_result"
    }
   ],
   "source": [
    "heart = pd.read_csv('results/HumanGEM_Heart_COVID19_local2_1_3_2_fastcore_t0_msc_filtered.csv', index_col=0).drop('fba_simulation', axis=1).to_dict('records')\n",
    "len(heart)"
   ]
  },
  {
   "cell_type": "code",
   "execution_count": 5,
   "metadata": {
    "ExecuteTime": {
     "end_time": "2024-04-02T12:08:42.533567Z",
     "start_time": "2024-04-02T12:08:42.516571Z"
    }
   },
   "outputs": [
    {
     "data": {
      "text/plain": "716"
     },
     "execution_count": 5,
     "metadata": {},
     "output_type": "execute_result"
    }
   ],
   "source": [
    "kidney = pd.read_csv('results/HumanGEM_Kidney_COVID19_local2_1_3_2_fastcore_t0_msc_filtered.csv', index_col=0).drop('fba_simulation', axis=1).to_dict('records')\n",
    "len(kidney)"
   ]
  },
  {
   "cell_type": "code",
   "execution_count": 6,
   "metadata": {
    "ExecuteTime": {
     "end_time": "2024-04-02T12:08:42.913214Z",
     "start_time": "2024-04-02T12:08:42.892214Z"
    }
   },
   "outputs": [
    {
     "data": {
      "text/plain": "1483"
     },
     "execution_count": 6,
     "metadata": {},
     "output_type": "execute_result"
    }
   ],
   "source": [
    "intestine = pd.read_csv('results/HumanGEM_Intestine_COVID19_local2_1_3_2_fastcore_t0_msc_filtered.csv', index_col=0).drop('fba_simulation', axis=1).to_dict('records')\n",
    "len(intestine)"
   ]
  },
  {
   "cell_type": "code",
   "execution_count": 7,
   "metadata": {
    "ExecuteTime": {
     "end_time": "2024-04-02T12:08:44.358425Z",
     "start_time": "2024-04-02T12:08:44.313881Z"
    }
   },
   "outputs": [
    {
     "data": {
      "text/plain": "3"
     },
     "execution_count": 7,
     "metadata": {},
     "output_type": "execute_result"
    }
   ],
   "source": [
    "intersection = [x for x in lung if x in liver]\n",
    "intersection = [x for x in intersection if x in heart]\n",
    "intersection = [x for x in intersection if x in kidney]\n",
    "intersection = [x for x in intersection if x in intestine]\n",
    "len(intersection)\n"
   ]
  },
  {
   "cell_type": "code",
   "execution_count": 8,
   "metadata": {
    "ExecuteTime": {
     "end_time": "2024-04-02T12:08:45.656311Z",
     "start_time": "2024-04-02T12:08:45.639765Z"
    }
   },
   "outputs": [
    {
     "data": {
      "text/plain": "[{'Reaction 1': 'LNSTLSr', 'Reaction 2': 'HMR_1465'},\n {'Reaction 1': 'HMR_1467', 'Reaction 2': 'r0780'},\n {'Reaction 1': 'r0780', 'Reaction 2': 'HMR_1470'}]"
     },
     "execution_count": 8,
     "metadata": {},
     "output_type": "execute_result"
    }
   ],
   "source": [
    "intersection"
   ]
  },
  {
   "cell_type": "code",
   "execution_count": 9,
   "metadata": {
    "ExecuteTime": {
     "end_time": "2024-04-02T12:08:48.825921Z",
     "start_time": "2024-04-02T12:08:47.061192Z"
    }
   },
   "outputs": [],
   "source": [
    "import cobra"
   ]
  },
  {
   "cell_type": "code",
   "execution_count": 10,
   "metadata": {
    "ExecuteTime": {
     "end_time": "2024-04-02T12:09:12.024406Z",
     "start_time": "2024-04-02T12:08:51.619537Z"
    }
   },
   "outputs": [
    {
     "data": {
      "text/plain": "<Model HumanGEM at 0x190d8f02308>",
      "text/html": "\n        <table>\n            <tr>\n                <td><strong>Name</strong></td>\n                <td>HumanGEM</td>\n            </tr><tr>\n                <td><strong>Memory address</strong></td>\n                <td>190d8f02308</td>\n            </tr><tr>\n                <td><strong>Number of metabolites</strong></td>\n                <td>6149</td>\n            </tr><tr>\n                <td><strong>Number of reactions</strong></td>\n                <td>10347</td>\n            </tr><tr>\n                <td><strong>Number of genes</strong></td>\n                <td>2976</td>\n            </tr><tr>\n                <td><strong>Number of groups</strong></td>\n                <td>142</td>\n            </tr><tr>\n                <td><strong>Objective expression</strong></td>\n                <td>1.0*biomass_human - 1.0*biomass_human_reverse_fb2f2</td>\n            </tr><tr>\n                <td><strong>Compartments</strong></td>\n                <td>Cytosol, Lysosome, Endoplasmic reticulum, Extracellular, Mitochondria, Peroxisome, Golgi apparatus, Nucleus, Inner mitochondria</td>\n            </tr>\n          </table>"
     },
     "execution_count": 10,
     "metadata": {},
     "output_type": "execute_result"
    }
   ],
   "source": [
    "model = cobra.io.read_sbml_model('../models/HumanGEM_Consistent_COVID19.xml')\n",
    "model"
   ]
  },
  {
   "cell_type": "code",
   "execution_count": 11,
   "metadata": {
    "ExecuteTime": {
     "end_time": "2024-04-02T12:09:12.040382Z",
     "start_time": "2024-04-02T12:09:12.027379Z"
    }
   },
   "outputs": [
    {
     "data": {
      "text/plain": "{0: {'Reaction 1': 'ENSG00000160285', 'Reaction 2': 'ENSG00000079459'},\n 1: {'Reaction 1': 'ENSG00000079459', 'Reaction 2': 'ENSG00000149809'},\n 2: {'Reaction 1': 'ENSG00000149809', 'Reaction 2': 'ENSG00000104549'}}"
     },
     "execution_count": 11,
     "metadata": {},
     "output_type": "execute_result"
    }
   ],
   "source": [
    "gene_dataset = {}\n",
    "\n",
    "i = 0\n",
    "\n",
    "for cut_set in range(len(intersection)):\n",
    "    d = {}\n",
    "    \n",
    "    gp_rule_1 = str(model.reactions.get_by_id(intersection[cut_set]['Reaction 1']).gpr).split(' or ')\n",
    "    gp_rule_2 = str(model.reactions.get_by_id(intersection[cut_set]['Reaction 2']).gpr).split(' or ')\n",
    "    \n",
    "    if len(gp_rule_1) == 1 and len(gp_rule_2) == 1:\n",
    "        gp_rule_1= gp_rule_1[0].split(' and ')\n",
    "        gp_rule_2= gp_rule_2[0].split(' and ')\n",
    "        \n",
    "        if len(gp_rule_1) == 1 and len(gp_rule_2) == 1:\n",
    "            d['Reaction 1'] = gp_rule_1[0]\n",
    "            d['Reaction 2'] = gp_rule_2[0]\n",
    "    \n",
    "            gene_dataset[i] = d\n",
    "            i += 1\n",
    "            \n",
    "gene_dataset"
   ]
  },
  {
   "cell_type": "code",
   "execution_count": 12,
   "metadata": {
    "ExecuteTime": {
     "end_time": "2024-04-02T12:09:12.056401Z",
     "start_time": "2024-04-02T12:09:12.042379Z"
    }
   },
   "outputs": [
    {
     "data": {
      "text/plain": "{0: {'Reaction 1': 'ENSG00000160285', 'Reaction 2': 'ENSG00000079459'},\n 1: {'Reaction 1': 'ENSG00000079459', 'Reaction 2': 'ENSG00000149809'},\n 2: {'Reaction 1': 'ENSG00000149809', 'Reaction 2': 'ENSG00000104549'}}"
     },
     "execution_count": 12,
     "metadata": {},
     "output_type": "execute_result"
    }
   ],
   "source": [
    "gene_dataset = {}\n",
    "\n",
    "i = 0\n",
    "\n",
    "for cut_set in range(len(intersection)):\n",
    "    d = {}\n",
    "    \n",
    "    gp_rule_1 = str(model.reactions.get_by_id(intersection[cut_set]['Reaction 1']).gpr).split(' or ')\n",
    "    gp_rule_2 = str(model.reactions.get_by_id(intersection[cut_set]['Reaction 2']).gpr).split(' or ')\n",
    "    \n",
    "    if len(gp_rule_1) == 1 and len(gp_rule_2) == 1:\n",
    "        d['Reaction 1'] = gp_rule_1[0]\n",
    "        d['Reaction 2'] = gp_rule_2[0]\n",
    "        \n",
    "        gene_dataset[i] = d\n",
    "        i += 1\n",
    "            \n",
    "gene_dataset"
   ]
  },
  {
   "cell_type": "code",
   "execution_count": 13,
   "metadata": {
    "ExecuteTime": {
     "end_time": "2024-04-02T12:09:12.087920Z",
     "start_time": "2024-04-02T12:09:12.060395Z"
    }
   },
   "outputs": [
    {
     "data": {
      "text/plain": "        Reaction 1       Reaction 2\n0  ENSG00000160285  ENSG00000079459\n1  ENSG00000079459  ENSG00000149809\n2  ENSG00000149809  ENSG00000104549",
      "text/html": "<div>\n<style scoped>\n    .dataframe tbody tr th:only-of-type {\n        vertical-align: middle;\n    }\n\n    .dataframe tbody tr th {\n        vertical-align: top;\n    }\n\n    .dataframe thead th {\n        text-align: right;\n    }\n</style>\n<table border=\"1\" class=\"dataframe\">\n  <thead>\n    <tr style=\"text-align: right;\">\n      <th></th>\n      <th>Reaction 1</th>\n      <th>Reaction 2</th>\n    </tr>\n  </thead>\n  <tbody>\n    <tr>\n      <th>0</th>\n      <td>ENSG00000160285</td>\n      <td>ENSG00000079459</td>\n    </tr>\n    <tr>\n      <th>1</th>\n      <td>ENSG00000079459</td>\n      <td>ENSG00000149809</td>\n    </tr>\n    <tr>\n      <th>2</th>\n      <td>ENSG00000149809</td>\n      <td>ENSG00000104549</td>\n    </tr>\n  </tbody>\n</table>\n</div>"
     },
     "execution_count": 13,
     "metadata": {},
     "output_type": "execute_result"
    }
   ],
   "source": [
    "gene_df = pd.DataFrame.from_dict(gene_dataset).T\n",
    "gene_df"
   ]
  },
  {
   "cell_type": "code",
   "execution_count": 14,
   "metadata": {
    "ExecuteTime": {
     "end_time": "2024-04-02T12:09:12.103927Z",
     "start_time": "2024-04-02T12:09:12.089920Z"
    }
   },
   "outputs": [],
   "source": [
    "gene_df.to_csv('results/gene_targets_Desai_GTEx.csv')"
   ]
  },
  {
   "cell_type": "code",
   "execution_count": null,
   "metadata": {},
   "outputs": [],
   "source": []
  }
 ],
 "metadata": {
  "kernelspec": {
   "display_name": "Python 3 (ipykernel)",
   "language": "python",
   "name": "python3"
  },
  "language_info": {
   "codemirror_mode": {
    "name": "ipython",
    "version": 3
   },
   "file_extension": ".py",
   "mimetype": "text/x-python",
   "name": "python",
   "nbconvert_exporter": "python",
   "pygments_lexer": "ipython3",
   "version": "3.8.16"
  }
 },
 "nbformat": 4,
 "nbformat_minor": 1
}
