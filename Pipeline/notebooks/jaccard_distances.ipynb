{
 "cells": [
  {
   "cell_type": "code",
   "execution_count": 2,
   "metadata": {
    "ExecuteTime": {
     "start_time": "2023-05-02T17:39:47.103605Z",
     "end_time": "2023-05-02T17:39:49.188355Z"
    }
   },
   "outputs": [],
   "source": [
    "import seaborn as sns\n",
    "import pandas as pd\n",
    "from sklearn.metrics import pairwise_distances \n",
    "%matplotlib inline"
   ]
  },
  {
   "cell_type": "code",
   "execution_count": 3,
   "metadata": {
    "ExecuteTime": {
     "start_time": "2023-05-02T17:39:49.189354Z",
     "end_time": "2023-05-02T17:39:49.611644Z"
    }
   },
   "outputs": [
    {
     "data": {
      "text/plain": "                                                    HMR_4097  HMR_4099  \\\nHumanGEM_Lung_Healthy_local2_1_3_2_fastcore_t0             1         1   \nHumanGEM_Lung_COVID19_local2_1_3_2_fastcore_t0             1         1   \nHumanGEM_Heart_Healthy_local2_1_3_2_fastcore_t0            1         1   \nHumanGEM_Heart_COVID19_local2_1_3_2_fastcore_t0            1         1   \nHumanGEM_Liver_Healthy_local2_1_3_2_fastcore_t0            0         1   \nHumanGEM_Liver_COVID19_local2_1_3_2_fastcore_t0            1         0   \nHumanGEM_Kidney_Healthy_local2_1_3_2_fastcore_t0           0         1   \nHumanGEM_Kidney_COVID19_local2_1_3_2_fastcore_t0           0         1   \nHumanGEM_Intestine_Healthy_local2_1_3_2_fastcor...         1         1   \nHumanGEM_Intestine_COVID19_local2_1_3_2_fastcor...         1         1   \n\n                                                    HMR_4108  HMR_4133  \\\nHumanGEM_Lung_Healthy_local2_1_3_2_fastcore_t0             1         1   \nHumanGEM_Lung_COVID19_local2_1_3_2_fastcore_t0             1         1   \nHumanGEM_Heart_Healthy_local2_1_3_2_fastcore_t0            1         1   \nHumanGEM_Heart_COVID19_local2_1_3_2_fastcore_t0            1         1   \nHumanGEM_Liver_Healthy_local2_1_3_2_fastcore_t0            0         0   \nHumanGEM_Liver_COVID19_local2_1_3_2_fastcore_t0            1         1   \nHumanGEM_Kidney_Healthy_local2_1_3_2_fastcore_t0           0         0   \nHumanGEM_Kidney_COVID19_local2_1_3_2_fastcore_t0           0         0   \nHumanGEM_Intestine_Healthy_local2_1_3_2_fastcor...         1         1   \nHumanGEM_Intestine_COVID19_local2_1_3_2_fastcor...         1         1   \n\n                                                    HMR_4137  HMR_4281  \\\nHumanGEM_Lung_Healthy_local2_1_3_2_fastcore_t0             1         0   \nHumanGEM_Lung_COVID19_local2_1_3_2_fastcore_t0             1         0   \nHumanGEM_Heart_Healthy_local2_1_3_2_fastcore_t0            1         1   \nHumanGEM_Heart_COVID19_local2_1_3_2_fastcore_t0            1         0   \nHumanGEM_Liver_Healthy_local2_1_3_2_fastcore_t0            1         1   \nHumanGEM_Liver_COVID19_local2_1_3_2_fastcore_t0            1         0   \nHumanGEM_Kidney_Healthy_local2_1_3_2_fastcore_t0           1         1   \nHumanGEM_Kidney_COVID19_local2_1_3_2_fastcore_t0           1         0   \nHumanGEM_Intestine_Healthy_local2_1_3_2_fastcor...         1         0   \nHumanGEM_Intestine_COVID19_local2_1_3_2_fastcor...         1         1   \n\n                                                    HMR_4388  HMR_4283  \\\nHumanGEM_Lung_Healthy_local2_1_3_2_fastcore_t0             0         1   \nHumanGEM_Lung_COVID19_local2_1_3_2_fastcore_t0             0         1   \nHumanGEM_Heart_Healthy_local2_1_3_2_fastcore_t0            0         0   \nHumanGEM_Heart_COVID19_local2_1_3_2_fastcore_t0            0         0   \nHumanGEM_Liver_Healthy_local2_1_3_2_fastcore_t0            0         0   \nHumanGEM_Liver_COVID19_local2_1_3_2_fastcore_t0            0         0   \nHumanGEM_Kidney_Healthy_local2_1_3_2_fastcore_t0           0         0   \nHumanGEM_Kidney_COVID19_local2_1_3_2_fastcore_t0           0         0   \nHumanGEM_Intestine_Healthy_local2_1_3_2_fastcor...         0         0   \nHumanGEM_Intestine_COVID19_local2_1_3_2_fastcor...         0         0   \n\n                                                    HMR_8357  HMR_4379  ...  \\\nHumanGEM_Lung_Healthy_local2_1_3_2_fastcore_t0             1         1  ...   \nHumanGEM_Lung_COVID19_local2_1_3_2_fastcore_t0             1         1  ...   \nHumanGEM_Heart_Healthy_local2_1_3_2_fastcore_t0            1         1  ...   \nHumanGEM_Heart_COVID19_local2_1_3_2_fastcore_t0            1         1  ...   \nHumanGEM_Liver_Healthy_local2_1_3_2_fastcore_t0            1         1  ...   \nHumanGEM_Liver_COVID19_local2_1_3_2_fastcore_t0            1         1  ...   \nHumanGEM_Kidney_Healthy_local2_1_3_2_fastcore_t0           1         1  ...   \nHumanGEM_Kidney_COVID19_local2_1_3_2_fastcore_t0           1         1  ...   \nHumanGEM_Intestine_Healthy_local2_1_3_2_fastcor...         1         1  ...   \nHumanGEM_Intestine_COVID19_local2_1_3_2_fastcor...         1         1  ...   \n\n                                                    HMR_10119  HMR_10120  \\\nHumanGEM_Lung_Healthy_local2_1_3_2_fastcore_t0              0          0   \nHumanGEM_Lung_COVID19_local2_1_3_2_fastcore_t0              0          0   \nHumanGEM_Heart_Healthy_local2_1_3_2_fastcore_t0             0          0   \nHumanGEM_Heart_COVID19_local2_1_3_2_fastcore_t0             0          0   \nHumanGEM_Liver_Healthy_local2_1_3_2_fastcore_t0             1          1   \nHumanGEM_Liver_COVID19_local2_1_3_2_fastcore_t0             1          1   \nHumanGEM_Kidney_Healthy_local2_1_3_2_fastcore_t0            0          0   \nHumanGEM_Kidney_COVID19_local2_1_3_2_fastcore_t0            0          0   \nHumanGEM_Intestine_Healthy_local2_1_3_2_fastcor...          0          0   \nHumanGEM_Intestine_COVID19_local2_1_3_2_fastcor...          0          0   \n\n                                                    HMR_10121  HMR_10122  \\\nHumanGEM_Lung_Healthy_local2_1_3_2_fastcore_t0              0          0   \nHumanGEM_Lung_COVID19_local2_1_3_2_fastcore_t0              0          0   \nHumanGEM_Heart_Healthy_local2_1_3_2_fastcore_t0             0          0   \nHumanGEM_Heart_COVID19_local2_1_3_2_fastcore_t0             0          0   \nHumanGEM_Liver_Healthy_local2_1_3_2_fastcore_t0             0          0   \nHumanGEM_Liver_COVID19_local2_1_3_2_fastcore_t0             0          0   \nHumanGEM_Kidney_Healthy_local2_1_3_2_fastcore_t0            0          0   \nHumanGEM_Kidney_COVID19_local2_1_3_2_fastcore_t0            0          0   \nHumanGEM_Intestine_Healthy_local2_1_3_2_fastcor...          0          0   \nHumanGEM_Intestine_COVID19_local2_1_3_2_fastcor...          0          0   \n\n                                                    HMR_10125  HMR_10127  \\\nHumanGEM_Lung_Healthy_local2_1_3_2_fastcore_t0              0          0   \nHumanGEM_Lung_COVID19_local2_1_3_2_fastcore_t0              0          0   \nHumanGEM_Heart_Healthy_local2_1_3_2_fastcore_t0             0          0   \nHumanGEM_Heart_COVID19_local2_1_3_2_fastcore_t0             0          0   \nHumanGEM_Liver_Healthy_local2_1_3_2_fastcore_t0             1          1   \nHumanGEM_Liver_COVID19_local2_1_3_2_fastcore_t0             1          1   \nHumanGEM_Kidney_Healthy_local2_1_3_2_fastcore_t0            0          0   \nHumanGEM_Kidney_COVID19_local2_1_3_2_fastcore_t0            0          0   \nHumanGEM_Intestine_Healthy_local2_1_3_2_fastcor...          0          0   \nHumanGEM_Intestine_COVID19_local2_1_3_2_fastcor...          0          0   \n\n                                                    HMR_10128  HMR_10129  \\\nHumanGEM_Lung_Healthy_local2_1_3_2_fastcore_t0              0          0   \nHumanGEM_Lung_COVID19_local2_1_3_2_fastcore_t0              0          0   \nHumanGEM_Heart_Healthy_local2_1_3_2_fastcore_t0             0          0   \nHumanGEM_Heart_COVID19_local2_1_3_2_fastcore_t0             0          0   \nHumanGEM_Liver_Healthy_local2_1_3_2_fastcore_t0             0          0   \nHumanGEM_Liver_COVID19_local2_1_3_2_fastcore_t0             0          0   \nHumanGEM_Kidney_Healthy_local2_1_3_2_fastcore_t0            0          0   \nHumanGEM_Kidney_COVID19_local2_1_3_2_fastcore_t0            0          0   \nHumanGEM_Intestine_Healthy_local2_1_3_2_fastcor...          0          0   \nHumanGEM_Intestine_COVID19_local2_1_3_2_fastcor...          0          0   \n\n                                                    VBOF  EX_VBOF  \nHumanGEM_Lung_Healthy_local2_1_3_2_fastcore_t0         1        1  \nHumanGEM_Lung_COVID19_local2_1_3_2_fastcore_t0         1        1  \nHumanGEM_Heart_Healthy_local2_1_3_2_fastcore_t0        1        1  \nHumanGEM_Heart_COVID19_local2_1_3_2_fastcore_t0        1        1  \nHumanGEM_Liver_Healthy_local2_1_3_2_fastcore_t0        1        1  \nHumanGEM_Liver_COVID19_local2_1_3_2_fastcore_t0        1        1  \nHumanGEM_Kidney_Healthy_local2_1_3_2_fastcore_t0       1        1  \nHumanGEM_Kidney_COVID19_local2_1_3_2_fastcore_t0       1        1  \nHumanGEM_Intestine_Healthy_local2_1_3_2_fastcor...     1        1  \nHumanGEM_Intestine_COVID19_local2_1_3_2_fastcor...     1        1  \n\n[10 rows x 10347 columns]",
      "text/html": "<div>\n<style scoped>\n    .dataframe tbody tr th:only-of-type {\n        vertical-align: middle;\n    }\n\n    .dataframe tbody tr th {\n        vertical-align: top;\n    }\n\n    .dataframe thead th {\n        text-align: right;\n    }\n</style>\n<table border=\"1\" class=\"dataframe\">\n  <thead>\n    <tr style=\"text-align: right;\">\n      <th></th>\n      <th>HMR_4097</th>\n      <th>HMR_4099</th>\n      <th>HMR_4108</th>\n      <th>HMR_4133</th>\n      <th>HMR_4137</th>\n      <th>HMR_4281</th>\n      <th>HMR_4388</th>\n      <th>HMR_4283</th>\n      <th>HMR_8357</th>\n      <th>HMR_4379</th>\n      <th>...</th>\n      <th>HMR_10119</th>\n      <th>HMR_10120</th>\n      <th>HMR_10121</th>\n      <th>HMR_10122</th>\n      <th>HMR_10125</th>\n      <th>HMR_10127</th>\n      <th>HMR_10128</th>\n      <th>HMR_10129</th>\n      <th>VBOF</th>\n      <th>EX_VBOF</th>\n    </tr>\n  </thead>\n  <tbody>\n    <tr>\n      <th>HumanGEM_Lung_Healthy_local2_1_3_2_fastcore_t0</th>\n      <td>1</td>\n      <td>1</td>\n      <td>1</td>\n      <td>1</td>\n      <td>1</td>\n      <td>0</td>\n      <td>0</td>\n      <td>1</td>\n      <td>1</td>\n      <td>1</td>\n      <td>...</td>\n      <td>0</td>\n      <td>0</td>\n      <td>0</td>\n      <td>0</td>\n      <td>0</td>\n      <td>0</td>\n      <td>0</td>\n      <td>0</td>\n      <td>1</td>\n      <td>1</td>\n    </tr>\n    <tr>\n      <th>HumanGEM_Lung_COVID19_local2_1_3_2_fastcore_t0</th>\n      <td>1</td>\n      <td>1</td>\n      <td>1</td>\n      <td>1</td>\n      <td>1</td>\n      <td>0</td>\n      <td>0</td>\n      <td>1</td>\n      <td>1</td>\n      <td>1</td>\n      <td>...</td>\n      <td>0</td>\n      <td>0</td>\n      <td>0</td>\n      <td>0</td>\n      <td>0</td>\n      <td>0</td>\n      <td>0</td>\n      <td>0</td>\n      <td>1</td>\n      <td>1</td>\n    </tr>\n    <tr>\n      <th>HumanGEM_Heart_Healthy_local2_1_3_2_fastcore_t0</th>\n      <td>1</td>\n      <td>1</td>\n      <td>1</td>\n      <td>1</td>\n      <td>1</td>\n      <td>1</td>\n      <td>0</td>\n      <td>0</td>\n      <td>1</td>\n      <td>1</td>\n      <td>...</td>\n      <td>0</td>\n      <td>0</td>\n      <td>0</td>\n      <td>0</td>\n      <td>0</td>\n      <td>0</td>\n      <td>0</td>\n      <td>0</td>\n      <td>1</td>\n      <td>1</td>\n    </tr>\n    <tr>\n      <th>HumanGEM_Heart_COVID19_local2_1_3_2_fastcore_t0</th>\n      <td>1</td>\n      <td>1</td>\n      <td>1</td>\n      <td>1</td>\n      <td>1</td>\n      <td>0</td>\n      <td>0</td>\n      <td>0</td>\n      <td>1</td>\n      <td>1</td>\n      <td>...</td>\n      <td>0</td>\n      <td>0</td>\n      <td>0</td>\n      <td>0</td>\n      <td>0</td>\n      <td>0</td>\n      <td>0</td>\n      <td>0</td>\n      <td>1</td>\n      <td>1</td>\n    </tr>\n    <tr>\n      <th>HumanGEM_Liver_Healthy_local2_1_3_2_fastcore_t0</th>\n      <td>0</td>\n      <td>1</td>\n      <td>0</td>\n      <td>0</td>\n      <td>1</td>\n      <td>1</td>\n      <td>0</td>\n      <td>0</td>\n      <td>1</td>\n      <td>1</td>\n      <td>...</td>\n      <td>1</td>\n      <td>1</td>\n      <td>0</td>\n      <td>0</td>\n      <td>1</td>\n      <td>1</td>\n      <td>0</td>\n      <td>0</td>\n      <td>1</td>\n      <td>1</td>\n    </tr>\n    <tr>\n      <th>HumanGEM_Liver_COVID19_local2_1_3_2_fastcore_t0</th>\n      <td>1</td>\n      <td>0</td>\n      <td>1</td>\n      <td>1</td>\n      <td>1</td>\n      <td>0</td>\n      <td>0</td>\n      <td>0</td>\n      <td>1</td>\n      <td>1</td>\n      <td>...</td>\n      <td>1</td>\n      <td>1</td>\n      <td>0</td>\n      <td>0</td>\n      <td>1</td>\n      <td>1</td>\n      <td>0</td>\n      <td>0</td>\n      <td>1</td>\n      <td>1</td>\n    </tr>\n    <tr>\n      <th>HumanGEM_Kidney_Healthy_local2_1_3_2_fastcore_t0</th>\n      <td>0</td>\n      <td>1</td>\n      <td>0</td>\n      <td>0</td>\n      <td>1</td>\n      <td>1</td>\n      <td>0</td>\n      <td>0</td>\n      <td>1</td>\n      <td>1</td>\n      <td>...</td>\n      <td>0</td>\n      <td>0</td>\n      <td>0</td>\n      <td>0</td>\n      <td>0</td>\n      <td>0</td>\n      <td>0</td>\n      <td>0</td>\n      <td>1</td>\n      <td>1</td>\n    </tr>\n    <tr>\n      <th>HumanGEM_Kidney_COVID19_local2_1_3_2_fastcore_t0</th>\n      <td>0</td>\n      <td>1</td>\n      <td>0</td>\n      <td>0</td>\n      <td>1</td>\n      <td>0</td>\n      <td>0</td>\n      <td>0</td>\n      <td>1</td>\n      <td>1</td>\n      <td>...</td>\n      <td>0</td>\n      <td>0</td>\n      <td>0</td>\n      <td>0</td>\n      <td>0</td>\n      <td>0</td>\n      <td>0</td>\n      <td>0</td>\n      <td>1</td>\n      <td>1</td>\n    </tr>\n    <tr>\n      <th>HumanGEM_Intestine_Healthy_local2_1_3_2_fastcore_t0</th>\n      <td>1</td>\n      <td>1</td>\n      <td>1</td>\n      <td>1</td>\n      <td>1</td>\n      <td>0</td>\n      <td>0</td>\n      <td>0</td>\n      <td>1</td>\n      <td>1</td>\n      <td>...</td>\n      <td>0</td>\n      <td>0</td>\n      <td>0</td>\n      <td>0</td>\n      <td>0</td>\n      <td>0</td>\n      <td>0</td>\n      <td>0</td>\n      <td>1</td>\n      <td>1</td>\n    </tr>\n    <tr>\n      <th>HumanGEM_Intestine_COVID19_local2_1_3_2_fastcore_t0</th>\n      <td>1</td>\n      <td>1</td>\n      <td>1</td>\n      <td>1</td>\n      <td>1</td>\n      <td>1</td>\n      <td>0</td>\n      <td>0</td>\n      <td>1</td>\n      <td>1</td>\n      <td>...</td>\n      <td>0</td>\n      <td>0</td>\n      <td>0</td>\n      <td>0</td>\n      <td>0</td>\n      <td>0</td>\n      <td>0</td>\n      <td>0</td>\n      <td>1</td>\n      <td>1</td>\n    </tr>\n  </tbody>\n</table>\n<p>10 rows × 10347 columns</p>\n</div>"
     },
     "execution_count": 3,
     "metadata": {},
     "output_type": "execute_result"
    }
   ],
   "source": [
    "import numpy as np\n",
    "threshold_troppo = pd.read_csv(\n",
    "    'results/troppo/Desai-GTEx/HumanGEM_Desai-GTEx_fastcore_local2_1_3_2.csv',\n",
    "    index_col=0)\n",
    "\n",
    "thresholded_genes = pd.DataFrame(data=np.where(threshold_troppo > 0, 1, 0),\n",
    "                                          index=threshold_troppo.index,\n",
    "                                          columns=threshold_troppo.columns)\n",
    "\n",
    "thresholded_genes"
   ]
  },
  {
   "cell_type": "code",
   "execution_count": 7,
   "outputs": [
    {
     "name": "stderr",
     "output_type": "stream",
     "text": [
      "C:\\Users\\biosy\\anaconda3\\envs\\troppo-dev\\lib\\site-packages\\sklearn\\metrics\\pairwise.py:1875: DataConversionWarning: Data was converted to boolean for metric jaccard\n",
      "  warnings.warn(msg, DataConversionWarning)\n"
     ]
    },
    {
     "data": {
      "text/plain": "                                                    HumanGEM_Lung_Healthy_local2_1_3_2_fastcore_t0  \\\nHumanGEM_Lung_Healthy_local2_1_3_2_fastcore_t0                                            1.000000   \nHumanGEM_Lung_COVID19_local2_1_3_2_fastcore_t0                                            0.883336   \nHumanGEM_Heart_Healthy_local2_1_3_2_fastcore_t0                                           0.795016   \nHumanGEM_Heart_COVID19_local2_1_3_2_fastcore_t0                                           0.813460   \nHumanGEM_Liver_Healthy_local2_1_3_2_fastcore_t0                                           0.758967   \nHumanGEM_Liver_COVID19_local2_1_3_2_fastcore_t0                                           0.655032   \nHumanGEM_Kidney_Healthy_local2_1_3_2_fastcore_t0                                          0.781538   \nHumanGEM_Kidney_COVID19_local2_1_3_2_fastcore_t0                                          0.565863   \nHumanGEM_Intestine_Healthy_local2_1_3_2_fastcor...                                        0.848775   \nHumanGEM_Intestine_COVID19_local2_1_3_2_fastcor...                                        0.835465   \n\n                                                    HumanGEM_Lung_COVID19_local2_1_3_2_fastcore_t0  \\\nHumanGEM_Lung_Healthy_local2_1_3_2_fastcore_t0                                            0.883336   \nHumanGEM_Lung_COVID19_local2_1_3_2_fastcore_t0                                            1.000000   \nHumanGEM_Heart_Healthy_local2_1_3_2_fastcore_t0                                           0.777859   \nHumanGEM_Heart_COVID19_local2_1_3_2_fastcore_t0                                           0.827599   \nHumanGEM_Liver_Healthy_local2_1_3_2_fastcore_t0                                           0.733203   \nHumanGEM_Liver_COVID19_local2_1_3_2_fastcore_t0                                           0.649736   \nHumanGEM_Kidney_Healthy_local2_1_3_2_fastcore_t0                                          0.757612   \nHumanGEM_Kidney_COVID19_local2_1_3_2_fastcore_t0                                          0.579501   \nHumanGEM_Intestine_Healthy_local2_1_3_2_fastcor...                                        0.823539   \nHumanGEM_Intestine_COVID19_local2_1_3_2_fastcor...                                        0.860957   \n\n                                                    HumanGEM_Heart_Healthy_local2_1_3_2_fastcore_t0  \\\nHumanGEM_Lung_Healthy_local2_1_3_2_fastcore_t0                                             0.795016   \nHumanGEM_Lung_COVID19_local2_1_3_2_fastcore_t0                                             0.777859   \nHumanGEM_Heart_Healthy_local2_1_3_2_fastcore_t0                                            1.000000   \nHumanGEM_Heart_COVID19_local2_1_3_2_fastcore_t0                                            0.786282   \nHumanGEM_Liver_Healthy_local2_1_3_2_fastcore_t0                                            0.735974   \nHumanGEM_Liver_COVID19_local2_1_3_2_fastcore_t0                                            0.628838   \nHumanGEM_Kidney_Healthy_local2_1_3_2_fastcore_t0                                           0.818777   \nHumanGEM_Kidney_COVID19_local2_1_3_2_fastcore_t0                                           0.590909   \nHumanGEM_Intestine_Healthy_local2_1_3_2_fastcor...                                         0.764459   \nHumanGEM_Intestine_COVID19_local2_1_3_2_fastcor...                                         0.778141   \n\n                                                    HumanGEM_Heart_COVID19_local2_1_3_2_fastcore_t0  \\\nHumanGEM_Lung_Healthy_local2_1_3_2_fastcore_t0                                             0.813460   \nHumanGEM_Lung_COVID19_local2_1_3_2_fastcore_t0                                             0.827599   \nHumanGEM_Heart_Healthy_local2_1_3_2_fastcore_t0                                            0.786282   \nHumanGEM_Heart_COVID19_local2_1_3_2_fastcore_t0                                            1.000000   \nHumanGEM_Liver_Healthy_local2_1_3_2_fastcore_t0                                            0.707363   \nHumanGEM_Liver_COVID19_local2_1_3_2_fastcore_t0                                            0.672414   \nHumanGEM_Kidney_Healthy_local2_1_3_2_fastcore_t0                                           0.719514   \nHumanGEM_Kidney_COVID19_local2_1_3_2_fastcore_t0                                           0.616505   \nHumanGEM_Intestine_Healthy_local2_1_3_2_fastcor...                                         0.764655   \nHumanGEM_Intestine_COVID19_local2_1_3_2_fastcor...                                         0.815746   \n\n                                                    HumanGEM_Liver_Healthy_local2_1_3_2_fastcore_t0  \\\nHumanGEM_Lung_Healthy_local2_1_3_2_fastcore_t0                                             0.758967   \nHumanGEM_Lung_COVID19_local2_1_3_2_fastcore_t0                                             0.733203   \nHumanGEM_Heart_Healthy_local2_1_3_2_fastcore_t0                                            0.735974   \nHumanGEM_Heart_COVID19_local2_1_3_2_fastcore_t0                                            0.707363   \nHumanGEM_Liver_Healthy_local2_1_3_2_fastcore_t0                                            1.000000   \nHumanGEM_Liver_COVID19_local2_1_3_2_fastcore_t0                                            0.722919   \nHumanGEM_Kidney_Healthy_local2_1_3_2_fastcore_t0                                           0.801674   \nHumanGEM_Kidney_COVID19_local2_1_3_2_fastcore_t0                                           0.532157   \nHumanGEM_Intestine_Healthy_local2_1_3_2_fastcor...                                         0.769281   \nHumanGEM_Intestine_COVID19_local2_1_3_2_fastcor...                                         0.734293   \n\n                                                    HumanGEM_Liver_COVID19_local2_1_3_2_fastcore_t0  \\\nHumanGEM_Lung_Healthy_local2_1_3_2_fastcore_t0                                             0.655032   \nHumanGEM_Lung_COVID19_local2_1_3_2_fastcore_t0                                             0.649736   \nHumanGEM_Heart_Healthy_local2_1_3_2_fastcore_t0                                            0.628838   \nHumanGEM_Heart_COVID19_local2_1_3_2_fastcore_t0                                            0.672414   \nHumanGEM_Liver_Healthy_local2_1_3_2_fastcore_t0                                            0.722919   \nHumanGEM_Liver_COVID19_local2_1_3_2_fastcore_t0                                            1.000000   \nHumanGEM_Kidney_Healthy_local2_1_3_2_fastcore_t0                                           0.643723   \nHumanGEM_Kidney_COVID19_local2_1_3_2_fastcore_t0                                           0.624017   \nHumanGEM_Intestine_Healthy_local2_1_3_2_fastcor...                                         0.664779   \nHumanGEM_Intestine_COVID19_local2_1_3_2_fastcor...                                         0.673353   \n\n                                                    HumanGEM_Kidney_Healthy_local2_1_3_2_fastcore_t0  \\\nHumanGEM_Lung_Healthy_local2_1_3_2_fastcore_t0                                              0.781538   \nHumanGEM_Lung_COVID19_local2_1_3_2_fastcore_t0                                              0.757612   \nHumanGEM_Heart_Healthy_local2_1_3_2_fastcore_t0                                             0.818777   \nHumanGEM_Heart_COVID19_local2_1_3_2_fastcore_t0                                             0.719514   \nHumanGEM_Liver_Healthy_local2_1_3_2_fastcore_t0                                             0.801674   \nHumanGEM_Liver_COVID19_local2_1_3_2_fastcore_t0                                             0.643723   \nHumanGEM_Kidney_Healthy_local2_1_3_2_fastcore_t0                                            1.000000   \nHumanGEM_Kidney_COVID19_local2_1_3_2_fastcore_t0                                            0.547905   \nHumanGEM_Intestine_Healthy_local2_1_3_2_fastcor...                                          0.789483   \nHumanGEM_Intestine_COVID19_local2_1_3_2_fastcor...                                          0.751017   \n\n                                                    HumanGEM_Kidney_COVID19_local2_1_3_2_fastcore_t0  \\\nHumanGEM_Lung_Healthy_local2_1_3_2_fastcore_t0                                              0.565863   \nHumanGEM_Lung_COVID19_local2_1_3_2_fastcore_t0                                              0.579501   \nHumanGEM_Heart_Healthy_local2_1_3_2_fastcore_t0                                             0.590909   \nHumanGEM_Heart_COVID19_local2_1_3_2_fastcore_t0                                             0.616505   \nHumanGEM_Liver_Healthy_local2_1_3_2_fastcore_t0                                             0.532157   \nHumanGEM_Liver_COVID19_local2_1_3_2_fastcore_t0                                             0.624017   \nHumanGEM_Kidney_Healthy_local2_1_3_2_fastcore_t0                                            0.547905   \nHumanGEM_Kidney_COVID19_local2_1_3_2_fastcore_t0                                            1.000000   \nHumanGEM_Intestine_Healthy_local2_1_3_2_fastcor...                                          0.551417   \nHumanGEM_Intestine_COVID19_local2_1_3_2_fastcor...                                          0.574480   \n\n                                                    HumanGEM_Intestine_Healthy_local2_1_3_2_fastcore_t0  \\\nHumanGEM_Lung_Healthy_local2_1_3_2_fastcore_t0                                               0.848775     \nHumanGEM_Lung_COVID19_local2_1_3_2_fastcore_t0                                               0.823539     \nHumanGEM_Heart_Healthy_local2_1_3_2_fastcore_t0                                              0.764459     \nHumanGEM_Heart_COVID19_local2_1_3_2_fastcore_t0                                              0.764655     \nHumanGEM_Liver_Healthy_local2_1_3_2_fastcore_t0                                              0.769281     \nHumanGEM_Liver_COVID19_local2_1_3_2_fastcore_t0                                              0.664779     \nHumanGEM_Kidney_Healthy_local2_1_3_2_fastcore_t0                                             0.789483     \nHumanGEM_Kidney_COVID19_local2_1_3_2_fastcore_t0                                             0.551417     \nHumanGEM_Intestine_Healthy_local2_1_3_2_fastcor...                                           1.000000     \nHumanGEM_Intestine_COVID19_local2_1_3_2_fastcor...                                           0.828181     \n\n                                                    HumanGEM_Intestine_COVID19_local2_1_3_2_fastcore_t0  \nHumanGEM_Lung_Healthy_local2_1_3_2_fastcore_t0                                               0.835465    \nHumanGEM_Lung_COVID19_local2_1_3_2_fastcore_t0                                               0.860957    \nHumanGEM_Heart_Healthy_local2_1_3_2_fastcore_t0                                              0.778141    \nHumanGEM_Heart_COVID19_local2_1_3_2_fastcore_t0                                              0.815746    \nHumanGEM_Liver_Healthy_local2_1_3_2_fastcore_t0                                              0.734293    \nHumanGEM_Liver_COVID19_local2_1_3_2_fastcore_t0                                              0.673353    \nHumanGEM_Kidney_Healthy_local2_1_3_2_fastcore_t0                                             0.751017    \nHumanGEM_Kidney_COVID19_local2_1_3_2_fastcore_t0                                             0.574480    \nHumanGEM_Intestine_Healthy_local2_1_3_2_fastcor...                                           0.828181    \nHumanGEM_Intestine_COVID19_local2_1_3_2_fastcor...                                           1.000000    ",
      "text/html": "<div>\n<style scoped>\n    .dataframe tbody tr th:only-of-type {\n        vertical-align: middle;\n    }\n\n    .dataframe tbody tr th {\n        vertical-align: top;\n    }\n\n    .dataframe thead th {\n        text-align: right;\n    }\n</style>\n<table border=\"1\" class=\"dataframe\">\n  <thead>\n    <tr style=\"text-align: right;\">\n      <th></th>\n      <th>HumanGEM_Lung_Healthy_local2_1_3_2_fastcore_t0</th>\n      <th>HumanGEM_Lung_COVID19_local2_1_3_2_fastcore_t0</th>\n      <th>HumanGEM_Heart_Healthy_local2_1_3_2_fastcore_t0</th>\n      <th>HumanGEM_Heart_COVID19_local2_1_3_2_fastcore_t0</th>\n      <th>HumanGEM_Liver_Healthy_local2_1_3_2_fastcore_t0</th>\n      <th>HumanGEM_Liver_COVID19_local2_1_3_2_fastcore_t0</th>\n      <th>HumanGEM_Kidney_Healthy_local2_1_3_2_fastcore_t0</th>\n      <th>HumanGEM_Kidney_COVID19_local2_1_3_2_fastcore_t0</th>\n      <th>HumanGEM_Intestine_Healthy_local2_1_3_2_fastcore_t0</th>\n      <th>HumanGEM_Intestine_COVID19_local2_1_3_2_fastcore_t0</th>\n    </tr>\n  </thead>\n  <tbody>\n    <tr>\n      <th>HumanGEM_Lung_Healthy_local2_1_3_2_fastcore_t0</th>\n      <td>1.000000</td>\n      <td>0.883336</td>\n      <td>0.795016</td>\n      <td>0.813460</td>\n      <td>0.758967</td>\n      <td>0.655032</td>\n      <td>0.781538</td>\n      <td>0.565863</td>\n      <td>0.848775</td>\n      <td>0.835465</td>\n    </tr>\n    <tr>\n      <th>HumanGEM_Lung_COVID19_local2_1_3_2_fastcore_t0</th>\n      <td>0.883336</td>\n      <td>1.000000</td>\n      <td>0.777859</td>\n      <td>0.827599</td>\n      <td>0.733203</td>\n      <td>0.649736</td>\n      <td>0.757612</td>\n      <td>0.579501</td>\n      <td>0.823539</td>\n      <td>0.860957</td>\n    </tr>\n    <tr>\n      <th>HumanGEM_Heart_Healthy_local2_1_3_2_fastcore_t0</th>\n      <td>0.795016</td>\n      <td>0.777859</td>\n      <td>1.000000</td>\n      <td>0.786282</td>\n      <td>0.735974</td>\n      <td>0.628838</td>\n      <td>0.818777</td>\n      <td>0.590909</td>\n      <td>0.764459</td>\n      <td>0.778141</td>\n    </tr>\n    <tr>\n      <th>HumanGEM_Heart_COVID19_local2_1_3_2_fastcore_t0</th>\n      <td>0.813460</td>\n      <td>0.827599</td>\n      <td>0.786282</td>\n      <td>1.000000</td>\n      <td>0.707363</td>\n      <td>0.672414</td>\n      <td>0.719514</td>\n      <td>0.616505</td>\n      <td>0.764655</td>\n      <td>0.815746</td>\n    </tr>\n    <tr>\n      <th>HumanGEM_Liver_Healthy_local2_1_3_2_fastcore_t0</th>\n      <td>0.758967</td>\n      <td>0.733203</td>\n      <td>0.735974</td>\n      <td>0.707363</td>\n      <td>1.000000</td>\n      <td>0.722919</td>\n      <td>0.801674</td>\n      <td>0.532157</td>\n      <td>0.769281</td>\n      <td>0.734293</td>\n    </tr>\n    <tr>\n      <th>HumanGEM_Liver_COVID19_local2_1_3_2_fastcore_t0</th>\n      <td>0.655032</td>\n      <td>0.649736</td>\n      <td>0.628838</td>\n      <td>0.672414</td>\n      <td>0.722919</td>\n      <td>1.000000</td>\n      <td>0.643723</td>\n      <td>0.624017</td>\n      <td>0.664779</td>\n      <td>0.673353</td>\n    </tr>\n    <tr>\n      <th>HumanGEM_Kidney_Healthy_local2_1_3_2_fastcore_t0</th>\n      <td>0.781538</td>\n      <td>0.757612</td>\n      <td>0.818777</td>\n      <td>0.719514</td>\n      <td>0.801674</td>\n      <td>0.643723</td>\n      <td>1.000000</td>\n      <td>0.547905</td>\n      <td>0.789483</td>\n      <td>0.751017</td>\n    </tr>\n    <tr>\n      <th>HumanGEM_Kidney_COVID19_local2_1_3_2_fastcore_t0</th>\n      <td>0.565863</td>\n      <td>0.579501</td>\n      <td>0.590909</td>\n      <td>0.616505</td>\n      <td>0.532157</td>\n      <td>0.624017</td>\n      <td>0.547905</td>\n      <td>1.000000</td>\n      <td>0.551417</td>\n      <td>0.574480</td>\n    </tr>\n    <tr>\n      <th>HumanGEM_Intestine_Healthy_local2_1_3_2_fastcore_t0</th>\n      <td>0.848775</td>\n      <td>0.823539</td>\n      <td>0.764459</td>\n      <td>0.764655</td>\n      <td>0.769281</td>\n      <td>0.664779</td>\n      <td>0.789483</td>\n      <td>0.551417</td>\n      <td>1.000000</td>\n      <td>0.828181</td>\n    </tr>\n    <tr>\n      <th>HumanGEM_Intestine_COVID19_local2_1_3_2_fastcore_t0</th>\n      <td>0.835465</td>\n      <td>0.860957</td>\n      <td>0.778141</td>\n      <td>0.815746</td>\n      <td>0.734293</td>\n      <td>0.673353</td>\n      <td>0.751017</td>\n      <td>0.574480</td>\n      <td>0.828181</td>\n      <td>1.000000</td>\n    </tr>\n  </tbody>\n</table>\n</div>"
     },
     "execution_count": 7,
     "metadata": {},
     "output_type": "execute_result"
    }
   ],
   "source": [
    "dff = pd.DataFrame(data=1-pairwise_distances(thresholded_genes.to_numpy(), metric='jaccard'),\n",
    "                   index=threshold_troppo.index,\n",
    "                   columns=threshold_troppo.index)\n",
    "\n",
    "dff"
   ],
   "metadata": {
    "collapsed": false,
    "ExecuteTime": {
     "start_time": "2023-05-02T17:38:17.446225Z",
     "end_time": "2023-05-02T17:38:17.485719Z"
    }
   }
  },
  {
   "cell_type": "code",
   "execution_count": 8,
   "metadata": {
    "ExecuteTime": {
     "start_time": "2023-05-02T17:38:21.503820Z",
     "end_time": "2023-05-02T17:38:21.545823Z"
    }
   },
   "outputs": [
    {
     "data": {
      "text/plain": "(10, 10)"
     },
     "execution_count": 8,
     "metadata": {},
     "output_type": "execute_result"
    }
   ],
   "source": [
    "dff.shape"
   ]
  },
  {
   "cell_type": "code",
   "execution_count": null,
   "metadata": {
    "pycharm": {
     "is_executing": true
    }
   },
   "outputs": [],
   "source": [
    "# calculate the distance based on jaccard similarity and subtract 1\n",
    "# because a value of 1 in original means no similarity\n",
    "\n",
    "# display as a heatmap\n",
    "sns.heatmap(dff, annot=True)"
   ]
  },
  {
   "cell_type": "code",
   "execution_count": 4,
   "metadata": {
    "ExecuteTime": {
     "start_time": "2023-05-02T17:39:53.103435Z",
     "end_time": "2023-05-02T17:39:53.170015Z"
    }
   },
   "outputs": [],
   "source": [
    "thresholded_genes.to_csv('HumanGEM_Desai-GTEx_fastcore_local2_1_3_2.csv')"
   ]
  },
  {
   "cell_type": "markdown",
   "source": [],
   "metadata": {
    "collapsed": false
   }
  }
 ],
 "metadata": {
  "kernelspec": {
   "display_name": "Python 3 (ipykernel)",
   "language": "python",
   "name": "python3"
  },
  "language_info": {
   "codemirror_mode": {
    "name": "ipython",
    "version": 3
   },
   "file_extension": ".py",
   "mimetype": "text/x-python",
   "name": "python",
   "nbconvert_exporter": "python",
   "pygments_lexer": "ipython3",
   "version": "3.7.13"
  }
 },
 "nbformat": 4,
 "nbformat_minor": 1
}
