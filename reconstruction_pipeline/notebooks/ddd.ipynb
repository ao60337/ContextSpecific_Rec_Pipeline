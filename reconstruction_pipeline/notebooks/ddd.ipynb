{
 "cells": [
  {
   "cell_type": "code",
   "execution_count": 4,
   "id": "initial_id",
   "metadata": {
    "is_executing": true
   },
   "outputs": [],
   "source": [
    "import cobra\n",
    "import numpy as np"
   ]
  },
  {
   "cell_type": "code",
   "execution_count": 2,
   "id": "9878c561a9d230ca",
   "metadata": {},
   "outputs": [],
   "source": [
    "model = cobra.io.read_sbml_model('../utils/human1_models/HumanGEM_Consistent_COVID19_HAM.xml')"
   ]
  },
  {
   "cell_type": "code",
   "execution_count": 3,
   "id": "e55128aa",
   "metadata": {},
   "outputs": [
    {
     "data": {
      "text/html": [
       "\n",
       "        <table>\n",
       "            <tr>\n",
       "                <td><strong>Name</strong></td>\n",
       "                <td>HumanGEM</td>\n",
       "            </tr><tr>\n",
       "                <td><strong>Memory address</strong></td>\n",
       "                <td>200a6641820</td>\n",
       "            </tr><tr>\n",
       "                <td><strong>Number of metabolites</strong></td>\n",
       "                <td>6149</td>\n",
       "            </tr><tr>\n",
       "                <td><strong>Number of reactions</strong></td>\n",
       "                <td>10347</td>\n",
       "            </tr><tr>\n",
       "                <td><strong>Number of genes</strong></td>\n",
       "                <td>2976</td>\n",
       "            </tr><tr>\n",
       "                <td><strong>Number of groups</strong></td>\n",
       "                <td>142</td>\n",
       "            </tr><tr>\n",
       "                <td><strong>Objective expression</strong></td>\n",
       "                <td>1.0*biomass_human - 1.0*biomass_human_reverse_fb2f2</td>\n",
       "            </tr><tr>\n",
       "                <td><strong>Compartments</strong></td>\n",
       "                <td>Cytosol, Lysosome, Endoplasmic reticulum, Extracellular, Mitochondria, Peroxisome, Golgi apparatus, Nucleus, Inner mitochondria</td>\n",
       "            </tr>\n",
       "          </table>"
      ],
      "text/plain": [
       "<Model HumanGEM at 0x200a6641820>"
      ]
     },
     "execution_count": 3,
     "metadata": {},
     "output_type": "execute_result"
    }
   ],
   "source": [
    "model"
   ]
  },
  {
   "cell_type": "code",
   "execution_count": 5,
   "id": "c5506e13",
   "metadata": {},
   "outputs": [],
   "source": [
    "a = np.array(model.reactions)"
   ]
  },
  {
   "cell_type": "code",
   "execution_count": 6,
   "id": "ab9dff56",
   "metadata": {},
   "outputs": [
    {
     "data": {
      "text/plain": [
       "array([<Reaction HMR_4097 at 0x2008b64ed00>,\n",
       "       <Reaction HMR_4099 at 0x2008b64eca0>,\n",
       "       <Reaction HMR_4108 at 0x2008b66b520>, ...,\n",
       "       <Reaction HMR_10129 at 0x2009066b280>,\n",
       "       <Reaction VBOF at 0x2009066b460>,\n",
       "       <Reaction EX_VBOF at 0x2009066bfa0>], dtype=object)"
      ]
     },
     "execution_count": 6,
     "metadata": {},
     "output_type": "execute_result"
    }
   ],
   "source": [
    "a"
   ]
  },
  {
   "cell_type": "code",
   "execution_count": 11,
   "id": "8377903e",
   "metadata": {},
   "outputs": [
    {
     "name": "stdout",
     "output_type": "stream",
     "text": [
      "10318\n"
     ]
    }
   ],
   "source": [
    "i = 0\n",
    "\n",
    "for reaction in model.reactions:\n",
    "    if reaction.id == 'biomass_human':\n",
    "        print(i)\n",
    "    else:\n",
    "        i+=1"
   ]
  },
  {
   "cell_type": "code",
   "execution_count": null,
   "id": "ceeb6cc8",
   "metadata": {},
   "outputs": [],
   "source": []
  }
 ],
 "metadata": {
  "kernelspec": {
   "display_name": "Python 3 (ipykernel)",
   "language": "python",
   "name": "python3"
  },
  "language_info": {
   "codemirror_mode": {
    "name": "ipython",
    "version": 3
   },
   "file_extension": ".py",
   "mimetype": "text/x-python",
   "name": "python",
   "nbconvert_exporter": "python",
   "pygments_lexer": "ipython3",
   "version": "3.8.16"
  }
 },
 "nbformat": 4,
 "nbformat_minor": 5
}
