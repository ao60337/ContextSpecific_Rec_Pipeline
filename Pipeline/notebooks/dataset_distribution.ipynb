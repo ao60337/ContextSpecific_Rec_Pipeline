{
 "cells": [
  {
   "cell_type": "code",
   "execution_count": 1,
   "metadata": {},
   "outputs": [],
   "source": [
    "import pandas as pd\n",
    "import seaborn as sns\n",
    "from numpy import log2, log\n",
    "import matplotlib.pyplot as plt\n",
    "\n",
    "%matplotlib inline\n",
    "plt.rcParams.update({'figure.figsize':(7,5), 'figure.dpi':100})"
   ]
  },
  {
   "cell_type": "code",
   "execution_count": 3,
   "metadata": {},
   "outputs": [
    {
     "data": {
      "text/html": [
       "<div>\n",
       "<style scoped>\n",
       "    .dataframe tbody tr th:only-of-type {\n",
       "        vertical-align: middle;\n",
       "    }\n",
       "\n",
       "    .dataframe tbody tr th {\n",
       "        vertical-align: top;\n",
       "    }\n",
       "\n",
       "    .dataframe thead th {\n",
       "        text-align: right;\n",
       "    }\n",
       "</style>\n",
       "<table border=\"1\" class=\"dataframe\">\n",
       "  <thead>\n",
       "    <tr style=\"text-align: right;\">\n",
       "      <th>ensembl_gene_id</th>\n",
       "      <th>Lung_Healthy</th>\n",
       "      <th>Lung_COVID19</th>\n",
       "      <th>Heart_Healthy</th>\n",
       "      <th>Heart_COVID19</th>\n",
       "      <th>Liver_Healthy</th>\n",
       "      <th>Liver_COVID19</th>\n",
       "      <th>Kidney_Healthy</th>\n",
       "      <th>Kidney_COVID19</th>\n",
       "      <th>Intestine_Healthy</th>\n",
       "      <th>Intestine_COVID19</th>\n",
       "    </tr>\n",
       "  </thead>\n",
       "  <tbody>\n",
       "    <tr>\n",
       "      <th>ENSG00000000419</th>\n",
       "      <td>5.022368</td>\n",
       "      <td>2.988018</td>\n",
       "      <td>4.498251</td>\n",
       "      <td>1.853724</td>\n",
       "      <td>4.193772</td>\n",
       "      <td>0.000000</td>\n",
       "      <td>4.426265</td>\n",
       "      <td>0.000000</td>\n",
       "      <td>4.887525</td>\n",
       "      <td>3.505754</td>\n",
       "    </tr>\n",
       "    <tr>\n",
       "      <th>ENSG00000000460</th>\n",
       "      <td>0.584963</td>\n",
       "      <td>1.551051</td>\n",
       "      <td>0.263034</td>\n",
       "      <td>0.000000</td>\n",
       "      <td>0.584963</td>\n",
       "      <td>0.511386</td>\n",
       "      <td>0.378512</td>\n",
       "      <td>0.000000</td>\n",
       "      <td>0.678072</td>\n",
       "      <td>1.638969</td>\n",
       "    </tr>\n",
       "    <tr>\n",
       "      <th>ENSG00000000938</th>\n",
       "      <td>6.444601</td>\n",
       "      <td>5.777630</td>\n",
       "      <td>2.232661</td>\n",
       "      <td>3.443118</td>\n",
       "      <td>2.378512</td>\n",
       "      <td>1.701718</td>\n",
       "      <td>2.432959</td>\n",
       "      <td>3.357754</td>\n",
       "      <td>3.201634</td>\n",
       "      <td>2.793815</td>\n",
       "    </tr>\n",
       "    <tr>\n",
       "      <th>ENSG00000000971</th>\n",
       "      <td>6.213347</td>\n",
       "      <td>7.134232</td>\n",
       "      <td>7.360189</td>\n",
       "      <td>4.658543</td>\n",
       "      <td>8.166916</td>\n",
       "      <td>5.943322</td>\n",
       "      <td>4.329124</td>\n",
       "      <td>4.169963</td>\n",
       "      <td>5.422906</td>\n",
       "      <td>6.647039</td>\n",
       "    </tr>\n",
       "    <tr>\n",
       "      <th>ENSG00000001036</th>\n",
       "      <td>4.822730</td>\n",
       "      <td>4.429446</td>\n",
       "      <td>3.906891</td>\n",
       "      <td>2.425952</td>\n",
       "      <td>4.017922</td>\n",
       "      <td>3.150758</td>\n",
       "      <td>4.439623</td>\n",
       "      <td>2.935908</td>\n",
       "      <td>4.638074</td>\n",
       "      <td>4.709290</td>\n",
       "    </tr>\n",
       "    <tr>\n",
       "      <th>...</th>\n",
       "      <td>...</td>\n",
       "      <td>...</td>\n",
       "      <td>...</td>\n",
       "      <td>...</td>\n",
       "      <td>...</td>\n",
       "      <td>...</td>\n",
       "      <td>...</td>\n",
       "      <td>...</td>\n",
       "      <td>...</td>\n",
       "      <td>...</td>\n",
       "    </tr>\n",
       "    <tr>\n",
       "      <th>ENSG00000272414</th>\n",
       "      <td>3.350497</td>\n",
       "      <td>4.696205</td>\n",
       "      <td>3.510962</td>\n",
       "      <td>5.244192</td>\n",
       "      <td>4.129283</td>\n",
       "      <td>4.870318</td>\n",
       "      <td>1.321928</td>\n",
       "      <td>2.763531</td>\n",
       "      <td>3.643856</td>\n",
       "      <td>4.874438</td>\n",
       "    </tr>\n",
       "    <tr>\n",
       "      <th>ENSG00000272573</th>\n",
       "      <td>5.074677</td>\n",
       "      <td>0.000000</td>\n",
       "      <td>6.238405</td>\n",
       "      <td>0.000000</td>\n",
       "      <td>2.432959</td>\n",
       "      <td>0.000000</td>\n",
       "      <td>3.817623</td>\n",
       "      <td>0.000000</td>\n",
       "      <td>4.689299</td>\n",
       "      <td>0.000000</td>\n",
       "    </tr>\n",
       "    <tr>\n",
       "      <th>ENSG00000272968</th>\n",
       "      <td>0.378512</td>\n",
       "      <td>0.000000</td>\n",
       "      <td>0.000000</td>\n",
       "      <td>0.000000</td>\n",
       "      <td>0.137504</td>\n",
       "      <td>0.000000</td>\n",
       "      <td>0.137504</td>\n",
       "      <td>0.000000</td>\n",
       "      <td>0.263034</td>\n",
       "      <td>0.000000</td>\n",
       "    </tr>\n",
       "    <tr>\n",
       "      <th>ENSG00000273045</th>\n",
       "      <td>0.847997</td>\n",
       "      <td>0.000000</td>\n",
       "      <td>0.137504</td>\n",
       "      <td>0.000000</td>\n",
       "      <td>0.263034</td>\n",
       "      <td>0.000000</td>\n",
       "      <td>1.584963</td>\n",
       "      <td>2.014589</td>\n",
       "      <td>1.201634</td>\n",
       "      <td>0.000000</td>\n",
       "    </tr>\n",
       "    <tr>\n",
       "      <th>ENSG00000273079</th>\n",
       "      <td>0.000000</td>\n",
       "      <td>0.381678</td>\n",
       "      <td>0.000000</td>\n",
       "      <td>0.190673</td>\n",
       "      <td>0.000000</td>\n",
       "      <td>0.909254</td>\n",
       "      <td>0.000000</td>\n",
       "      <td>0.000000</td>\n",
       "      <td>0.000000</td>\n",
       "      <td>0.403082</td>\n",
       "    </tr>\n",
       "  </tbody>\n",
       "</table>\n",
       "<p>12870 rows × 10 columns</p>\n",
       "</div>"
      ],
      "text/plain": [
       "ensembl_gene_id  Lung_Healthy  Lung_COVID19  Heart_Healthy  Heart_COVID19  \\\n",
       "ENSG00000000419      5.022368      2.988018       4.498251       1.853724   \n",
       "ENSG00000000460      0.584963      1.551051       0.263034       0.000000   \n",
       "ENSG00000000938      6.444601      5.777630       2.232661       3.443118   \n",
       "ENSG00000000971      6.213347      7.134232       7.360189       4.658543   \n",
       "ENSG00000001036      4.822730      4.429446       3.906891       2.425952   \n",
       "...                       ...           ...            ...            ...   \n",
       "ENSG00000272414      3.350497      4.696205       3.510962       5.244192   \n",
       "ENSG00000272573      5.074677      0.000000       6.238405       0.000000   \n",
       "ENSG00000272968      0.378512      0.000000       0.000000       0.000000   \n",
       "ENSG00000273045      0.847997      0.000000       0.137504       0.000000   \n",
       "ENSG00000273079      0.000000      0.381678       0.000000       0.190673   \n",
       "\n",
       "ensembl_gene_id  Liver_Healthy  Liver_COVID19  Kidney_Healthy  Kidney_COVID19  \\\n",
       "ENSG00000000419       4.193772       0.000000        4.426265        0.000000   \n",
       "ENSG00000000460       0.584963       0.511386        0.378512        0.000000   \n",
       "ENSG00000000938       2.378512       1.701718        2.432959        3.357754   \n",
       "ENSG00000000971       8.166916       5.943322        4.329124        4.169963   \n",
       "ENSG00000001036       4.017922       3.150758        4.439623        2.935908   \n",
       "...                        ...            ...             ...             ...   \n",
       "ENSG00000272414       4.129283       4.870318        1.321928        2.763531   \n",
       "ENSG00000272573       2.432959       0.000000        3.817623        0.000000   \n",
       "ENSG00000272968       0.137504       0.000000        0.137504        0.000000   \n",
       "ENSG00000273045       0.263034       0.000000        1.584963        2.014589   \n",
       "ENSG00000273079       0.000000       0.909254        0.000000        0.000000   \n",
       "\n",
       "ensembl_gene_id  Intestine_Healthy  Intestine_COVID19  \n",
       "ENSG00000000419           4.887525           3.505754  \n",
       "ENSG00000000460           0.678072           1.638969  \n",
       "ENSG00000000938           3.201634           2.793815  \n",
       "ENSG00000000971           5.422906           6.647039  \n",
       "ENSG00000001036           4.638074           4.709290  \n",
       "...                            ...                ...  \n",
       "ENSG00000272414           3.643856           4.874438  \n",
       "ENSG00000272573           4.689299           0.000000  \n",
       "ENSG00000272968           0.263034           0.000000  \n",
       "ENSG00000273045           1.201634           0.000000  \n",
       "ENSG00000273079           0.000000           0.403082  \n",
       "\n",
       "[12870 rows x 10 columns]"
      ]
     },
     "execution_count": 3,
     "metadata": {},
     "output_type": "execute_result"
    }
   ],
   "source": [
    "df = pd.read_csv('C:/Users/biosy/Documents/TissueSpecific_Reconstruction_Pipeline/Pipeline/datasets/Desai-GTEx_ensembl.csv', index_col=0).T\n",
    "df"
   ]
  },
  {
   "cell_type": "code",
   "execution_count": 3,
   "metadata": {},
   "outputs": [
    {
     "data": {
      "text/plain": [
       "ensembl_gene_id\n",
       "Lung_Healthy         2.807568\n",
       "Lung_COVID19         2.824840\n",
       "Heart_Healthy        2.193618\n",
       "Heart_COVID19        2.096446\n",
       "Liver_Healthy        1.998814\n",
       "Liver_COVID19        1.707996\n",
       "Kidney_Healthy       2.362126\n",
       "Kidney_COVID19       1.668051\n",
       "Intestine_Healthy    2.654070\n",
       "Intestine_COVID19    2.865245\n",
       "dtype: float64"
      ]
     },
     "execution_count": 3,
     "metadata": {},
     "output_type": "execute_result"
    }
   ],
   "source": [
    "df.mean()"
   ]
  },
  {
   "cell_type": "code",
   "execution_count": 4,
   "metadata": {},
   "outputs": [
    {
     "data": {
      "text/plain": [
       "2.3178774567835156"
      ]
     },
     "execution_count": 4,
     "metadata": {},
     "output_type": "execute_result"
    }
   ],
   "source": [
    "df.mean().mean()"
   ]
  },
  {
   "cell_type": "code",
   "execution_count": 5,
   "metadata": {},
   "outputs": [
    {
     "data": {
      "text/plain": [
       "ensembl_gene_id\n",
       "Lung_Healthy         0.0\n",
       "Lung_COVID19         0.0\n",
       "Heart_Healthy        0.0\n",
       "Heart_COVID19        0.0\n",
       "Liver_Healthy        0.0\n",
       "Liver_COVID19        0.0\n",
       "Kidney_Healthy       0.0\n",
       "Kidney_COVID19       0.0\n",
       "Intestine_Healthy    0.0\n",
       "Intestine_COVID19    0.0\n",
       "dtype: float64"
      ]
     },
     "execution_count": 5,
     "metadata": {},
     "output_type": "execute_result"
    }
   ],
   "source": [
    "df.min()"
   ]
  },
  {
   "cell_type": "code",
   "execution_count": 6,
   "metadata": {},
   "outputs": [
    {
     "data": {
      "text/plain": [
       "ensembl_gene_id\n",
       "Lung_Healthy         14.479559\n",
       "Lung_COVID19         14.046949\n",
       "Heart_Healthy        16.441500\n",
       "Heart_COVID19        14.583328\n",
       "Liver_Healthy        15.732189\n",
       "Liver_COVID19        15.400743\n",
       "Kidney_Healthy       15.919652\n",
       "Kidney_COVID19       16.414063\n",
       "Intestine_Healthy    15.465324\n",
       "Intestine_COVID19    14.745765\n",
       "dtype: float64"
      ]
     },
     "execution_count": 6,
     "metadata": {},
     "output_type": "execute_result"
    }
   ],
   "source": [
    "df.max()"
   ]
  },
  {
   "cell_type": "code",
   "execution_count": 7,
   "metadata": {},
   "outputs": [
    {
     "data": {
      "text/plain": [
       "16.44149988445599"
      ]
     },
     "execution_count": 7,
     "metadata": {},
     "output_type": "execute_result"
    }
   ],
   "source": [
    "df.max().max()"
   ]
  },
  {
   "cell_type": "code",
   "execution_count": null,
   "metadata": {
    "pycharm": {
     "is_executing": true
    }
   },
   "outputs": [],
   "source": [
    "sns.distplot(df)"
   ]
  },
  {
   "cell_type": "code",
   "execution_count": null,
   "metadata": {},
   "outputs": [],
   "source": [
    "df2 = df + 1\n",
    "df2 = df2.apply(log2)\n",
    "df2"
   ]
  },
  {
   "cell_type": "code",
   "execution_count": null,
   "metadata": {},
   "outputs": [],
   "source": [
    "df2.min()"
   ]
  },
  {
   "cell_type": "code",
   "execution_count": null,
   "metadata": {},
   "outputs": [],
   "source": [
    "df2.max()"
   ]
  },
  {
   "cell_type": "code",
   "execution_count": null,
   "metadata": {},
   "outputs": [],
   "source": [
    "df2.max().max()"
   ]
  },
  {
   "cell_type": "code",
   "execution_count": null,
   "metadata": {},
   "outputs": [],
   "source": [
    "sns.distplot(df2)"
   ]
  },
  {
   "cell_type": "code",
   "execution_count": null,
   "metadata": {},
   "outputs": [],
   "source": [
    "max_expression = log(df2.max().max())\n",
    "max_expression"
   ]
  },
  {
   "cell_type": "code",
   "execution_count": null,
   "metadata": {},
   "outputs": [],
   "source": [
    "qvalues = [0.1, 0.25, 0.5, 0.75, 0.9]\n",
    "quantiles = df2.T.quantile(qvalues)\n",
    "global_thresholds = quantiles.T.apply(lambda x: x.mean())\n",
    "\n",
    "global_thresholds"
   ]
  },
  {
   "cell_type": "code",
   "execution_count": null,
   "metadata": {},
   "outputs": [],
   "source": [
    "df2.T.to_csv('C:/Users/biosy/Documents/TissueSpecific_Reconstruction_Pipeline/Pipeline/datasets/Desai-GTEx_ensembl.csv')"
   ]
  },
  {
   "cell_type": "code",
   "execution_count": null,
   "metadata": {},
   "outputs": [],
   "source": []
  }
 ],
 "metadata": {
  "kernelspec": {
   "display_name": "Python 3 (ipykernel)",
   "language": "python",
   "name": "python3"
  },
  "language_info": {
   "codemirror_mode": {
    "name": "ipython",
    "version": 3
   },
   "file_extension": ".py",
   "mimetype": "text/x-python",
   "name": "python",
   "nbconvert_exporter": "python",
   "pygments_lexer": "ipython3",
   "version": "3.7.13"
  }
 },
 "nbformat": 4,
 "nbformat_minor": 1
}
